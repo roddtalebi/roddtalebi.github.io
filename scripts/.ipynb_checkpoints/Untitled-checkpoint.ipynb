{
 "cells": [
  {
   "cell_type": "code",
   "execution_count": 1,
   "metadata": {
    "collapsed": false
   },
   "outputs": [],
   "source": [
    "from datetime import date, datetime, timedelta\n",
    "import pandas as pd\n",
    "import os.path\n",
    "\n",
    "# load in roster\n",
    "roster = pd.read_csv('../data/Roster.csv',\n",
    "    header = 0)\n",
    "names = roster['Full Name'].tolist()\n",
    "roster['Attendance Score'] = 0"
   ]
  },
  {
   "cell_type": "code",
   "execution_count": 2,
   "metadata": {
    "collapsed": false
   },
   "outputs": [],
   "source": [
    "# note the date the csv is most recently updated on\n",
    "roster['Last Updated'] = str(datetime.now())"
   ]
  },
  {
   "cell_type": "code",
   "execution_count": 3,
   "metadata": {
    "collapsed": false
   },
   "outputs": [
    {
     "name": "stderr",
     "output_type": "stream",
     "text": [
      "C:\\Users\\RT185116\\AppData\\Local\\Continuum\\Anaconda2\\lib\\site-packages\\pandas\\core\\indexing.py:132: SettingWithCopyWarning: \n",
      "A value is trying to be set on a copy of a slice from a DataFrame\n",
      "\n",
      "See the caveats in the documentation: http://pandas.pydata.org/pandas-docs/stable/indexing.html#indexing-view-versus-copy\n",
      "  self._setitem_with_indexer(indexer, value)\n"
     ]
    }
   ],
   "source": [
    "# update attendance\n",
    "#note that attendance.csv pull and attendance_clean must have already been done\n",
    "attendance = pd.read_csv('../data/Attendance_Cleaned.csv',header = 0)\n",
    "for name in names:\n",
    "    score = attendance.mean(axis=1).loc[attendance['Name']==name].values[0]\n",
    "    roster['Attendance Score'].loc[roster['Full Name']==name] = int(score*100)"
   ]
  },
  {
   "cell_type": "code",
   "execution_count": 4,
   "metadata": {
    "collapsed": false
   },
   "outputs": [],
   "source": [
    "# update absent\n",
    "absent = pd.read_csv('../data/Absence.csv',\n",
    "                     header = 0, #header is in first line\n",
    "                     parse_dates = [0,2,3],\n",
    "                     infer_datetime_format = True)\n",
    "# clean Timestamp to just a Date\n",
    "absent['Timestamp'] = absent['Timestamp'].apply(lambda x: x.date())\n",
    "absent['Start Date'] = absent['Start Date'].apply(lambda x: x.date())\n",
    "absent['Last Date'] = absent['Last Date'].apply(lambda x: x.date())\n",
    "\n",
    "tomorrow = date.today() + timedelta(days=1)\n",
    "# filter to see who will be absent tomorrow and mark them as such\n",
    "absentPpl = absent['Name'].loc[absent['Start Date'] <= tomorrow].loc[absent['Last Date'] >= tomorrow].values\n",
    "for name in absentPpl:\n",
    "    roster['Status'].loc[roster['Full Name']==name] = 'Absent'"
   ]
  },
  {
   "cell_type": "code",
   "execution_count": 8,
   "metadata": {
    "collapsed": false
   },
   "outputs": [],
   "source": [
    "# update injured\n",
    "injured = pd.read_csv('../data/Injury_Report.csv',\n",
    "                     header = 0, #header is in first line\n",
    "                     parse_dates = [0],\n",
    "                     infer_datetime_format = True)\n",
    "# clean Timestamp to just a Date\n",
    "injured['Timestamp'] = injured['Timestamp'].apply(lambda x: x.date())\n",
    "\n",
    "# filter to see who will be absent tomorrow and mark them as such\n",
    "injured['Last Date'] = injured.apply(lambda x: x['Timestamp'] + timedelta(days=int(x['(Additional) Days off required'])), axis=1)\n",
    "\n",
    "injuredPpl = injured['Name'].loc[injured['Last Date'] >= tomorrow].values\n",
    "for name in injuredPpl:\n",
    "    roster['Status'].loc[roster['Full Name']==name] = 'Injured'"
   ]
  },
  {
   "cell_type": "code",
   "execution_count": null,
   "metadata": {
    "collapsed": true
   },
   "outputs": [],
   "source": [
    "# save updated roster\n",
    "roster.to_csv('../data/Roster.csv', index=False)"
   ]
  }
 ],
 "metadata": {
  "anaconda-cloud": {},
  "kernelspec": {
   "display_name": "Python [default]",
   "language": "python",
   "name": "python2"
  },
  "language_info": {
   "codemirror_mode": {
    "name": "ipython",
    "version": 2
   },
   "file_extension": ".py",
   "mimetype": "text/x-python",
   "name": "python",
   "nbconvert_exporter": "python",
   "pygments_lexer": "ipython2",
   "version": "2.7.12"
  }
 },
 "nbformat": 4,
 "nbformat_minor": 1
}
